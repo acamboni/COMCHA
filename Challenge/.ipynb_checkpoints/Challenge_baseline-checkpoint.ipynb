{
 "cells": [
  {
   "cell_type": "markdown",
   "metadata": {},
   "source": [
    "# 1st COMputing CHAllenges School <a class=\"tocSkip\">\n",
    "\n",
    "## ML Challenge - baseline solution <a class=\"tocSkip\">\n",
    "  \n",
    "*Barcelona, October 7th, 2019*"
   ]
  },
  {
   "cell_type": "markdown",
   "metadata": {
    "toc": true
   },
   "source": [
    "<h1>Table of Contents<span class=\"tocSkip\"></span></h1>\n",
    "<div class=\"toc\"><ul class=\"toc-item\"><li><span><a href=\"#Load-basetrack-dataset\" data-toc-modified-id=\"Load-basetrack-dataset-1\"><span class=\"toc-item-num\">1&nbsp;&nbsp;</span>Load basetrack dataset</a></span></li><li><span><a href=\"#Load-electromagnetic-shower-info\" data-toc-modified-id=\"Load-electromagnetic-shower-info-2\"><span class=\"toc-item-num\">2&nbsp;&nbsp;</span>Load electromagnetic shower info</a></span></li><li><span><a href=\"#Basic-implementation\" data-toc-modified-id=\"Basic-implementation-3\"><span class=\"toc-item-num\">3&nbsp;&nbsp;</span>Basic implementation</a></span><ul class=\"toc-item\"><li><span><a href=\"#Prepare-data\" data-toc-modified-id=\"Prepare-data-3.1\"><span class=\"toc-item-num\">3.1&nbsp;&nbsp;</span>Prepare data</a></span></li><li><span><a href=\"#Train-the-model\" data-toc-modified-id=\"Train-the-model-3.2\"><span class=\"toc-item-num\">3.2&nbsp;&nbsp;</span>Train the model</a></span></li><li><span><a href=\"#Test-the-model\" data-toc-modified-id=\"Test-the-model-3.3\"><span class=\"toc-item-num\">3.3&nbsp;&nbsp;</span>Test the model</a></span></li></ul></li></ul></div>"
   ]
  },
  {
   "cell_type": "markdown",
   "metadata": {},
   "source": [
    "# Load basetrack dataset\n",
    "\n",
    "Import dataset containing basetrack information:"
   ]
  },
  {
   "cell_type": "code",
   "execution_count": 2,
   "metadata": {},
   "outputs": [],
   "source": [
    "import numpy as np\n",
    "import pandas as pd\n",
    "from matplotlib import pyplot as plt"
   ]
  },
  {
   "cell_type": "code",
   "execution_count": 3,
   "metadata": {},
   "outputs": [
    {
     "name": "stdout",
     "output_type": "stream",
     "text": [
      "Total basetracks: 1123177\n"
     ]
    },
    {
     "data": {
      "text/html": [
       "<div>\n",
       "<style scoped>\n",
       "    .dataframe tbody tr th:only-of-type {\n",
       "        vertical-align: middle;\n",
       "    }\n",
       "\n",
       "    .dataframe tbody tr th {\n",
       "        vertical-align: top;\n",
       "    }\n",
       "\n",
       "    .dataframe thead th {\n",
       "        text-align: right;\n",
       "    }\n",
       "</style>\n",
       "<table border=\"1\" class=\"dataframe\">\n",
       "  <thead>\n",
       "    <tr style=\"text-align: right;\">\n",
       "      <th></th>\n",
       "      <th>event_id</th>\n",
       "      <th>X</th>\n",
       "      <th>Y</th>\n",
       "      <th>Z</th>\n",
       "      <th>TX</th>\n",
       "      <th>TY</th>\n",
       "      <th>chi2</th>\n",
       "      <th>signal</th>\n",
       "    </tr>\n",
       "  </thead>\n",
       "  <tbody>\n",
       "    <tr>\n",
       "      <th>0</th>\n",
       "      <td>-999</td>\n",
       "      <td>42720.238281</td>\n",
       "      <td>75152.406250</td>\n",
       "      <td>32325.0</td>\n",
       "      <td>-0.475539</td>\n",
       "      <td>0.405506</td>\n",
       "      <td>2.652586</td>\n",
       "      <td>0.0</td>\n",
       "    </tr>\n",
       "    <tr>\n",
       "      <th>1</th>\n",
       "      <td>-999</td>\n",
       "      <td>46023.816406</td>\n",
       "      <td>37043.359375</td>\n",
       "      <td>21981.0</td>\n",
       "      <td>0.330822</td>\n",
       "      <td>-0.013988</td>\n",
       "      <td>2.497527</td>\n",
       "      <td>0.0</td>\n",
       "    </tr>\n",
       "    <tr>\n",
       "      <th>2</th>\n",
       "      <td>-999</td>\n",
       "      <td>52706.117188</td>\n",
       "      <td>33872.730469</td>\n",
       "      <td>16809.0</td>\n",
       "      <td>0.342634</td>\n",
       "      <td>-0.058724</td>\n",
       "      <td>2.120421</td>\n",
       "      <td>0.0</td>\n",
       "    </tr>\n",
       "    <tr>\n",
       "      <th>3</th>\n",
       "      <td>-999</td>\n",
       "      <td>47334.101562</td>\n",
       "      <td>9698.531250</td>\n",
       "      <td>60771.0</td>\n",
       "      <td>0.007868</td>\n",
       "      <td>-0.632822</td>\n",
       "      <td>0.618535</td>\n",
       "      <td>0.0</td>\n",
       "    </tr>\n",
       "    <tr>\n",
       "      <th>4</th>\n",
       "      <td>-999</td>\n",
       "      <td>67380.835938</td>\n",
       "      <td>19137.265625</td>\n",
       "      <td>37497.0</td>\n",
       "      <td>-0.212537</td>\n",
       "      <td>-0.192243</td>\n",
       "      <td>2.799303</td>\n",
       "      <td>0.0</td>\n",
       "    </tr>\n",
       "  </tbody>\n",
       "</table>\n",
       "</div>"
      ],
      "text/plain": [
       "   event_id             X             Y        Z        TX        TY  \\\n",
       "0      -999  42720.238281  75152.406250  32325.0 -0.475539  0.405506   \n",
       "1      -999  46023.816406  37043.359375  21981.0  0.330822 -0.013988   \n",
       "2      -999  52706.117188  33872.730469  16809.0  0.342634 -0.058724   \n",
       "3      -999  47334.101562   9698.531250  60771.0  0.007868 -0.632822   \n",
       "4      -999  67380.835938  19137.265625  37497.0 -0.212537 -0.192243   \n",
       "\n",
       "       chi2  signal  \n",
       "0  2.652586     0.0  \n",
       "1  2.497527     0.0  \n",
       "2  2.120421     0.0  \n",
       "3  0.618535     0.0  \n",
       "4  2.799303     0.0  "
      ]
     },
     "execution_count": 3,
     "metadata": {},
     "output_type": "execute_result"
    }
   ],
   "source": [
    "df = pd.read_csv('data/DS_1_train.csv')\n",
    "\n",
    "print('Total basetracks:', len(df))\n",
    "df.head()"
   ]
  },
  {
   "cell_type": "markdown",
   "metadata": {},
   "source": [
    "Basetracks coming from a signal electromagnetic shower are flagged with ``signal=1.0``:"
   ]
  },
  {
   "cell_type": "code",
   "execution_count": 10,
   "metadata": {},
   "outputs": [
    {
     "name": "stdout",
     "output_type": "stream",
     "text": [
      "Signal basetracks: 51018\n"
     ]
    },
    {
     "data": {
      "text/html": [
       "<div>\n",
       "<style scoped>\n",
       "    .dataframe tbody tr th:only-of-type {\n",
       "        vertical-align: middle;\n",
       "    }\n",
       "\n",
       "    .dataframe tbody tr th {\n",
       "        vertical-align: top;\n",
       "    }\n",
       "\n",
       "    .dataframe thead th {\n",
       "        text-align: right;\n",
       "    }\n",
       "</style>\n",
       "<table border=\"1\" class=\"dataframe\">\n",
       "  <thead>\n",
       "    <tr style=\"text-align: right;\">\n",
       "      <th></th>\n",
       "      <th>event_id</th>\n",
       "      <th>X</th>\n",
       "      <th>Y</th>\n",
       "      <th>Z</th>\n",
       "      <th>TX</th>\n",
       "      <th>TY</th>\n",
       "      <th>chi2</th>\n",
       "      <th>signal</th>\n",
       "    </tr>\n",
       "  </thead>\n",
       "  <tbody>\n",
       "    <tr>\n",
       "      <th>29</th>\n",
       "      <td>411</td>\n",
       "      <td>53290.710938</td>\n",
       "      <td>22941.925781</td>\n",
       "      <td>63357.0</td>\n",
       "      <td>-0.258045</td>\n",
       "      <td>0.710882</td>\n",
       "      <td>1.846556</td>\n",
       "      <td>1.0</td>\n",
       "    </tr>\n",
       "    <tr>\n",
       "      <th>32</th>\n",
       "      <td>27354</td>\n",
       "      <td>36921.367188</td>\n",
       "      <td>21285.517578</td>\n",
       "      <td>72408.0</td>\n",
       "      <td>-0.924607</td>\n",
       "      <td>0.819380</td>\n",
       "      <td>0.849372</td>\n",
       "      <td>1.0</td>\n",
       "    </tr>\n",
       "    <tr>\n",
       "      <th>37</th>\n",
       "      <td>5586</td>\n",
       "      <td>43593.214844</td>\n",
       "      <td>56103.648438</td>\n",
       "      <td>45255.0</td>\n",
       "      <td>-0.330734</td>\n",
       "      <td>-0.467480</td>\n",
       "      <td>0.646188</td>\n",
       "      <td>1.0</td>\n",
       "    </tr>\n",
       "    <tr>\n",
       "      <th>39</th>\n",
       "      <td>3009</td>\n",
       "      <td>54343.628906</td>\n",
       "      <td>49445.316406</td>\n",
       "      <td>42669.0</td>\n",
       "      <td>0.242685</td>\n",
       "      <td>-0.080539</td>\n",
       "      <td>0.413605</td>\n",
       "      <td>1.0</td>\n",
       "    </tr>\n",
       "    <tr>\n",
       "      <th>41</th>\n",
       "      <td>739</td>\n",
       "      <td>41051.804688</td>\n",
       "      <td>34390.445312</td>\n",
       "      <td>60771.0</td>\n",
       "      <td>0.035552</td>\n",
       "      <td>-0.042680</td>\n",
       "      <td>0.670655</td>\n",
       "      <td>1.0</td>\n",
       "    </tr>\n",
       "  </tbody>\n",
       "</table>\n",
       "</div>"
      ],
      "text/plain": [
       "    event_id             X             Y        Z        TX        TY  \\\n",
       "29       411  53290.710938  22941.925781  63357.0 -0.258045  0.710882   \n",
       "32     27354  36921.367188  21285.517578  72408.0 -0.924607  0.819380   \n",
       "37      5586  43593.214844  56103.648438  45255.0 -0.330734 -0.467480   \n",
       "39      3009  54343.628906  49445.316406  42669.0  0.242685 -0.080539   \n",
       "41       739  41051.804688  34390.445312  60771.0  0.035552 -0.042680   \n",
       "\n",
       "        chi2  signal  \n",
       "29  1.846556     1.0  \n",
       "32  0.849372     1.0  \n",
       "37  0.646188     1.0  \n",
       "39  0.413605     1.0  \n",
       "41  0.670655     1.0  "
      ]
     },
     "execution_count": 10,
     "metadata": {},
     "output_type": "execute_result"
    }
   ],
   "source": [
    "print('Signal basetracks:', len(df[df.signal==1]))\n",
    "\n",
    "df[df.signal==1].head()"
   ]
  },
  {
   "cell_type": "markdown",
   "metadata": {},
   "source": [
    "Variable ``event_id`` is set to -999 for background basetracks. For signal events it denotes the event number:"
   ]
  },
  {
   "cell_type": "code",
   "execution_count": 15,
   "metadata": {
    "scrolled": true
   },
   "outputs": [
    {
     "name": "stdout",
     "output_type": "stream",
     "text": [
      "N. of basetracks associated to event 411: 3029\n"
     ]
    },
    {
     "data": {
      "text/html": [
       "<div>\n",
       "<style scoped>\n",
       "    .dataframe tbody tr th:only-of-type {\n",
       "        vertical-align: middle;\n",
       "    }\n",
       "\n",
       "    .dataframe tbody tr th {\n",
       "        vertical-align: top;\n",
       "    }\n",
       "\n",
       "    .dataframe thead th {\n",
       "        text-align: right;\n",
       "    }\n",
       "</style>\n",
       "<table border=\"1\" class=\"dataframe\">\n",
       "  <thead>\n",
       "    <tr style=\"text-align: right;\">\n",
       "      <th></th>\n",
       "      <th>event_id</th>\n",
       "      <th>X</th>\n",
       "      <th>Y</th>\n",
       "      <th>Z</th>\n",
       "      <th>TX</th>\n",
       "      <th>TY</th>\n",
       "      <th>chi2</th>\n",
       "      <th>signal</th>\n",
       "    </tr>\n",
       "  </thead>\n",
       "  <tbody>\n",
       "    <tr>\n",
       "      <th>29</th>\n",
       "      <td>411</td>\n",
       "      <td>53290.710938</td>\n",
       "      <td>22941.925781</td>\n",
       "      <td>63357.0</td>\n",
       "      <td>-0.258045</td>\n",
       "      <td>0.710882</td>\n",
       "      <td>1.846556</td>\n",
       "      <td>1.0</td>\n",
       "    </tr>\n",
       "    <tr>\n",
       "      <th>200</th>\n",
       "      <td>411</td>\n",
       "      <td>54048.312500</td>\n",
       "      <td>21494.039062</td>\n",
       "      <td>67236.0</td>\n",
       "      <td>-0.212128</td>\n",
       "      <td>0.848217</td>\n",
       "      <td>0.276276</td>\n",
       "      <td>1.0</td>\n",
       "    </tr>\n",
       "    <tr>\n",
       "      <th>419</th>\n",
       "      <td>411</td>\n",
       "      <td>54261.937500</td>\n",
       "      <td>19153.699219</td>\n",
       "      <td>46548.0</td>\n",
       "      <td>-0.058761</td>\n",
       "      <td>0.044806</td>\n",
       "      <td>0.946251</td>\n",
       "      <td>1.0</td>\n",
       "    </tr>\n",
       "    <tr>\n",
       "      <th>1508</th>\n",
       "      <td>411</td>\n",
       "      <td>54349.023438</td>\n",
       "      <td>21567.351562</td>\n",
       "      <td>72408.0</td>\n",
       "      <td>-0.517587</td>\n",
       "      <td>0.361877</td>\n",
       "      <td>2.742453</td>\n",
       "      <td>1.0</td>\n",
       "    </tr>\n",
       "    <tr>\n",
       "      <th>1739</th>\n",
       "      <td>411</td>\n",
       "      <td>54467.324219</td>\n",
       "      <td>20009.087891</td>\n",
       "      <td>55599.0</td>\n",
       "      <td>-0.029864</td>\n",
       "      <td>0.079060</td>\n",
       "      <td>0.732168</td>\n",
       "      <td>1.0</td>\n",
       "    </tr>\n",
       "  </tbody>\n",
       "</table>\n",
       "</div>"
      ],
      "text/plain": [
       "      event_id             X             Y        Z        TX        TY  \\\n",
       "29         411  53290.710938  22941.925781  63357.0 -0.258045  0.710882   \n",
       "200        411  54048.312500  21494.039062  67236.0 -0.212128  0.848217   \n",
       "419        411  54261.937500  19153.699219  46548.0 -0.058761  0.044806   \n",
       "1508       411  54349.023438  21567.351562  72408.0 -0.517587  0.361877   \n",
       "1739       411  54467.324219  20009.087891  55599.0 -0.029864  0.079060   \n",
       "\n",
       "          chi2  signal  \n",
       "29    1.846556     1.0  \n",
       "200   0.276276     1.0  \n",
       "419   0.946251     1.0  \n",
       "1508  2.742453     1.0  \n",
       "1739  0.732168     1.0  "
      ]
     },
     "execution_count": 15,
     "metadata": {},
     "output_type": "execute_result"
    }
   ],
   "source": [
    "print('N. of basetracks associated to event 411:', len(df[df.event_id==411]))\n",
    "\n",
    "df[df.event_id==411].head()"
   ]
  },
  {
   "cell_type": "markdown",
   "metadata": {},
   "source": [
    "NB: *X, Y, Z, TX, TY, chi2* of basetrack dataset are the only variables we are allowed to use as training features (and any other engineered feature derived from them)."
   ]
  },
  {
   "cell_type": "markdown",
   "metadata": {},
   "source": [
    "# Load electromagnetic shower info\n",
    "\n",
    "Now we load the dataset containing the coordinate of mother particles of 100 electromagnetic shower events. \n",
    "\n",
    "NB: this is MC truth information!"
   ]
  },
  {
   "cell_type": "code",
   "execution_count": 4,
   "metadata": {},
   "outputs": [],
   "source": [
    "df_electron = pd.read_csv('data/DS_1_electron_train.csv')"
   ]
  },
  {
   "cell_type": "code",
   "execution_count": 20,
   "metadata": {},
   "outputs": [
    {
     "name": "stdout",
     "output_type": "stream",
     "text": [
      "100\n"
     ]
    },
    {
     "data": {
      "text/html": [
       "<div>\n",
       "<style scoped>\n",
       "    .dataframe tbody tr th:only-of-type {\n",
       "        vertical-align: middle;\n",
       "    }\n",
       "\n",
       "    .dataframe tbody tr th {\n",
       "        vertical-align: top;\n",
       "    }\n",
       "\n",
       "    .dataframe thead th {\n",
       "        text-align: right;\n",
       "    }\n",
       "</style>\n",
       "<table border=\"1\" class=\"dataframe\">\n",
       "  <thead>\n",
       "    <tr style=\"text-align: right;\">\n",
       "      <th></th>\n",
       "      <th>event_id</th>\n",
       "      <th>P</th>\n",
       "      <th>X</th>\n",
       "      <th>Y</th>\n",
       "      <th>Z</th>\n",
       "      <th>TX</th>\n",
       "      <th>TY</th>\n",
       "    </tr>\n",
       "  </thead>\n",
       "  <tbody>\n",
       "    <tr>\n",
       "      <th>0</th>\n",
       "      <td>43311</td>\n",
       "      <td>6.059411</td>\n",
       "      <td>50445.277344</td>\n",
       "      <td>18868.576172</td>\n",
       "      <td>32163.242188</td>\n",
       "      <td>-0.145684</td>\n",
       "      <td>-0.044486</td>\n",
       "    </tr>\n",
       "    <tr>\n",
       "      <th>1</th>\n",
       "      <td>44301</td>\n",
       "      <td>4.829437</td>\n",
       "      <td>44404.660156</td>\n",
       "      <td>24444.984375</td>\n",
       "      <td>10518.998047</td>\n",
       "      <td>-0.044544</td>\n",
       "      <td>0.132461</td>\n",
       "    </tr>\n",
       "    <tr>\n",
       "      <th>2</th>\n",
       "      <td>41829</td>\n",
       "      <td>4.929091</td>\n",
       "      <td>49269.140625</td>\n",
       "      <td>45781.617188</td>\n",
       "      <td>37460.796875</td>\n",
       "      <td>0.060940</td>\n",
       "      <td>0.101490</td>\n",
       "    </tr>\n",
       "    <tr>\n",
       "      <th>3</th>\n",
       "      <td>38613</td>\n",
       "      <td>1.587992</td>\n",
       "      <td>44798.660156</td>\n",
       "      <td>43921.625000</td>\n",
       "      <td>35979.109375</td>\n",
       "      <td>-0.332825</td>\n",
       "      <td>0.115194</td>\n",
       "    </tr>\n",
       "    <tr>\n",
       "      <th>4</th>\n",
       "      <td>18087</td>\n",
       "      <td>7.594307</td>\n",
       "      <td>45228.773438</td>\n",
       "      <td>43913.035156</td>\n",
       "      <td>28341.851562</td>\n",
       "      <td>0.021005</td>\n",
       "      <td>0.058128</td>\n",
       "    </tr>\n",
       "  </tbody>\n",
       "</table>\n",
       "</div>"
      ],
      "text/plain": [
       "   event_id         P             X             Y             Z        TX  \\\n",
       "0     43311  6.059411  50445.277344  18868.576172  32163.242188 -0.145684   \n",
       "1     44301  4.829437  44404.660156  24444.984375  10518.998047 -0.044544   \n",
       "2     41829  4.929091  49269.140625  45781.617188  37460.796875  0.060940   \n",
       "3     38613  1.587992  44798.660156  43921.625000  35979.109375 -0.332825   \n",
       "4     18087  7.594307  45228.773438  43913.035156  28341.851562  0.021005   \n",
       "\n",
       "         TY  \n",
       "0 -0.044486  \n",
       "1  0.132461  \n",
       "2  0.101490  \n",
       "3  0.115194  \n",
       "4  0.058128  "
      ]
     },
     "execution_count": 20,
     "metadata": {},
     "output_type": "execute_result"
    }
   ],
   "source": [
    "print(len(df_electron))\n",
    "df_electron.head()"
   ]
  },
  {
   "cell_type": "markdown",
   "metadata": {},
   "source": [
    "As an example, we look at the mother particle which originates the electromagnetic shower identified as event 411:"
   ]
  },
  {
   "cell_type": "code",
   "execution_count": 19,
   "metadata": {},
   "outputs": [
    {
     "data": {
      "text/html": [
       "<div>\n",
       "<style scoped>\n",
       "    .dataframe tbody tr th:only-of-type {\n",
       "        vertical-align: middle;\n",
       "    }\n",
       "\n",
       "    .dataframe tbody tr th {\n",
       "        vertical-align: top;\n",
       "    }\n",
       "\n",
       "    .dataframe thead th {\n",
       "        text-align: right;\n",
       "    }\n",
       "</style>\n",
       "<table border=\"1\" class=\"dataframe\">\n",
       "  <thead>\n",
       "    <tr style=\"text-align: right;\">\n",
       "      <th></th>\n",
       "      <th>event_id</th>\n",
       "      <th>P</th>\n",
       "      <th>X</th>\n",
       "      <th>Y</th>\n",
       "      <th>Z</th>\n",
       "      <th>TX</th>\n",
       "      <th>TY</th>\n",
       "    </tr>\n",
       "  </thead>\n",
       "  <tbody>\n",
       "    <tr>\n",
       "      <th>70</th>\n",
       "      <td>411</td>\n",
       "      <td>81.597618</td>\n",
       "      <td>54071.785156</td>\n",
       "      <td>17360.886719</td>\n",
       "      <td>27072.421875</td>\n",
       "      <td>0.010623</td>\n",
       "      <td>0.085938</td>\n",
       "    </tr>\n",
       "  </tbody>\n",
       "</table>\n",
       "</div>"
      ],
      "text/plain": [
       "    event_id          P             X             Y             Z        TX  \\\n",
       "70       411  81.597618  54071.785156  17360.886719  27072.421875  0.010623   \n",
       "\n",
       "          TY  \n",
       "70  0.085938  "
      ]
     },
     "execution_count": 19,
     "metadata": {},
     "output_type": "execute_result"
    }
   ],
   "source": [
    "df_electron[df_electron.event_id==411]"
   ]
  },
  {
   "cell_type": "markdown",
   "metadata": {},
   "source": [
    "# Basic implementation\n",
    "\n",
    "As a baseline for the challenge, we implement a Decision Tree classifier which **only uses** ``chi2`` variable as training feature and **no information** on the mother particles.\n",
    "\n",
    "## Prepare data\n",
    "\n",
    "\n",
    "First of all, we split the dataset in a training and a test sample (keep this splitting to train/test your model!):"
   ]
  },
  {
   "cell_type": "code",
   "execution_count": 25,
   "metadata": {},
   "outputs": [
    {
     "name": "stdout",
     "output_type": "stream",
     "text": [
      "Train dataset:  1000000\n",
      "Test dataset:   123177\n"
     ]
    }
   ],
   "source": [
    "train_df = df[:1000000]\n",
    "test_df  = df[1000000:]\n",
    "\n",
    "\n",
    "print('Train dataset: ', len(train_df))\n",
    "print('Test dataset:  ', len(test_df))"
   ]
  },
  {
   "cell_type": "code",
   "execution_count": 22,
   "metadata": {},
   "outputs": [
    {
     "data": {
      "text/html": [
       "<div>\n",
       "<style scoped>\n",
       "    .dataframe tbody tr th:only-of-type {\n",
       "        vertical-align: middle;\n",
       "    }\n",
       "\n",
       "    .dataframe tbody tr th {\n",
       "        vertical-align: top;\n",
       "    }\n",
       "\n",
       "    .dataframe thead th {\n",
       "        text-align: right;\n",
       "    }\n",
       "</style>\n",
       "<table border=\"1\" class=\"dataframe\">\n",
       "  <thead>\n",
       "    <tr style=\"text-align: right;\">\n",
       "      <th></th>\n",
       "      <th>event_id</th>\n",
       "      <th>X</th>\n",
       "      <th>Y</th>\n",
       "      <th>Z</th>\n",
       "      <th>TX</th>\n",
       "      <th>TY</th>\n",
       "      <th>chi2</th>\n",
       "      <th>signal</th>\n",
       "    </tr>\n",
       "  </thead>\n",
       "  <tbody>\n",
       "    <tr>\n",
       "      <th>0</th>\n",
       "      <td>-999</td>\n",
       "      <td>42720.238281</td>\n",
       "      <td>75152.406250</td>\n",
       "      <td>32325.0</td>\n",
       "      <td>-0.475539</td>\n",
       "      <td>0.405506</td>\n",
       "      <td>2.652586</td>\n",
       "      <td>0.0</td>\n",
       "    </tr>\n",
       "    <tr>\n",
       "      <th>1</th>\n",
       "      <td>-999</td>\n",
       "      <td>46023.816406</td>\n",
       "      <td>37043.359375</td>\n",
       "      <td>21981.0</td>\n",
       "      <td>0.330822</td>\n",
       "      <td>-0.013988</td>\n",
       "      <td>2.497527</td>\n",
       "      <td>0.0</td>\n",
       "    </tr>\n",
       "    <tr>\n",
       "      <th>2</th>\n",
       "      <td>-999</td>\n",
       "      <td>52706.117188</td>\n",
       "      <td>33872.730469</td>\n",
       "      <td>16809.0</td>\n",
       "      <td>0.342634</td>\n",
       "      <td>-0.058724</td>\n",
       "      <td>2.120421</td>\n",
       "      <td>0.0</td>\n",
       "    </tr>\n",
       "    <tr>\n",
       "      <th>3</th>\n",
       "      <td>-999</td>\n",
       "      <td>47334.101562</td>\n",
       "      <td>9698.531250</td>\n",
       "      <td>60771.0</td>\n",
       "      <td>0.007868</td>\n",
       "      <td>-0.632822</td>\n",
       "      <td>0.618535</td>\n",
       "      <td>0.0</td>\n",
       "    </tr>\n",
       "    <tr>\n",
       "      <th>4</th>\n",
       "      <td>-999</td>\n",
       "      <td>67380.835938</td>\n",
       "      <td>19137.265625</td>\n",
       "      <td>37497.0</td>\n",
       "      <td>-0.212537</td>\n",
       "      <td>-0.192243</td>\n",
       "      <td>2.799303</td>\n",
       "      <td>0.0</td>\n",
       "    </tr>\n",
       "  </tbody>\n",
       "</table>\n",
       "</div>"
      ],
      "text/plain": [
       "   event_id             X             Y        Z        TX        TY  \\\n",
       "0      -999  42720.238281  75152.406250  32325.0 -0.475539  0.405506   \n",
       "1      -999  46023.816406  37043.359375  21981.0  0.330822 -0.013988   \n",
       "2      -999  52706.117188  33872.730469  16809.0  0.342634 -0.058724   \n",
       "3      -999  47334.101562   9698.531250  60771.0  0.007868 -0.632822   \n",
       "4      -999  67380.835938  19137.265625  37497.0 -0.212537 -0.192243   \n",
       "\n",
       "       chi2  signal  \n",
       "0  2.652586     0.0  \n",
       "1  2.497527     0.0  \n",
       "2  2.120421     0.0  \n",
       "3  0.618535     0.0  \n",
       "4  2.799303     0.0  "
      ]
     },
     "execution_count": 22,
     "metadata": {},
     "output_type": "execute_result"
    }
   ],
   "source": [
    "train_df.head()"
   ]
  },
  {
   "cell_type": "markdown",
   "metadata": {},
   "source": [
    "Now we extract the feature and target arrays:"
   ]
  },
  {
   "cell_type": "code",
   "execution_count": 26,
   "metadata": {},
   "outputs": [],
   "source": [
    "X_train = train_df.values[:, 6:7]  # Use only chi2 column as feature\n",
    "y_train = train_df.values[:, 7:8]"
   ]
  },
  {
   "cell_type": "markdown",
   "metadata": {},
   "source": [
    "## Train the model\n",
    "\n",
    "We fit a simple Decision Tree classifier on the train sample:"
   ]
  },
  {
   "cell_type": "code",
   "execution_count": 27,
   "metadata": {},
   "outputs": [],
   "source": [
    "from sklearn.tree import DecisionTreeClassifier\n",
    "clf = DecisionTreeClassifier(max_depth = 9)"
   ]
  },
  {
   "cell_type": "code",
   "execution_count": 28,
   "metadata": {},
   "outputs": [
    {
     "data": {
      "text/plain": [
       "DecisionTreeClassifier(class_weight=None, criterion='gini', max_depth=9,\n",
       "                       max_features=None, max_leaf_nodes=None,\n",
       "                       min_impurity_decrease=0.0, min_impurity_split=None,\n",
       "                       min_samples_leaf=1, min_samples_split=2,\n",
       "                       min_weight_fraction_leaf=0.0, presort=False,\n",
       "                       random_state=None, splitter='best')"
      ]
     },
     "execution_count": 28,
     "metadata": {},
     "output_type": "execute_result"
    }
   ],
   "source": [
    "clf.fit(X_train, y_train)"
   ]
  },
  {
   "cell_type": "markdown",
   "metadata": {},
   "source": [
    "## Test the model\n",
    "\n",
    "Let's evaluate the result of our classifier on the test dataset:"
   ]
  },
  {
   "cell_type": "code",
   "execution_count": 29,
   "metadata": {},
   "outputs": [],
   "source": [
    "X_test = test_df.values[:, 6:7]\n",
    "y_test = test_df.values[:, 7:8]"
   ]
  },
  {
   "cell_type": "code",
   "execution_count": 37,
   "metadata": {},
   "outputs": [],
   "source": [
    "predictions = clf.predict_proba(X_test)"
   ]
  },
  {
   "cell_type": "markdown",
   "metadata": {},
   "source": [
    "Use the predicted probabilities for each baseline track of the test dataset to compute the ROC curve:"
   ]
  },
  {
   "cell_type": "code",
   "execution_count": 38,
   "metadata": {},
   "outputs": [],
   "source": [
    "from sklearn.metrics import roc_curve, auc"
   ]
  },
  {
   "cell_type": "code",
   "execution_count": 41,
   "metadata": {},
   "outputs": [
    {
     "data": {
      "text/plain": [
       "0.8597683975393354"
      ]
     },
     "execution_count": 41,
     "metadata": {},
     "output_type": "execute_result"
    }
   ],
   "source": [
    "fpr, tpr, _ = roc_curve(y_test, predictions[:, 1])\n",
    "roc_auc     = auc(fpr, tpr)\n",
    "roc_auc"
   ]
  },
  {
   "cell_type": "code",
   "execution_count": 42,
   "metadata": {},
   "outputs": [
    {
     "data": {
      "image/png": "[encoded data removed]",
      "text/plain": [
       "<Figure size 432x288 with 1 Axes>"
      ]
     },
     "metadata": {
      "needs_background": "light"
     },
     "output_type": "display_data"
    }
   ],
   "source": [
    "plt.figure()\n",
    "plt.plot(fpr, tpr)\n",
    "plt.xlim([0.0, 1.0])\n",
    "plt.ylim([0.0, 1.05])\n",
    "plt.xlabel('False Positive Rate')\n",
    "plt.ylabel('True Positive Rate')\n",
    "plt.title('Receiver operating characteristic')\n",
    "plt.annotate('ROC AUC on test sample: '+str(round(roc_auc, 4)), xy=(0.45, 0.2), xycoords='axes fraction')\n",
    "plt.show()"
   ]
  },
  {
   "cell_type": "code",
   "execution_count": null,
   "metadata": {},
   "outputs": [],
   "source": []
  },
  {
   "cell_type": "code",
   "execution_count": null,
   "metadata": {},
   "outputs": [],
   "source": []
  },
  {
   "cell_type": "code",
   "execution_count": null,
   "metadata": {},
   "outputs": [],
   "source": []
  },
  {
   "cell_type": "code",
   "execution_count": null,
   "metadata": {},
   "outputs": [],
   "source": []
  }
 ],
 "metadata": {
  "kernelspec": {
   "display_name": "Python 3",
   "language": "python",
   "name": "python3"
  },
  "language_info": {
   "codemirror_mode": {
    "name": "ipython",
    "version": 3
   },
   "file_extension": ".py",
   "mimetype": "text/x-python",
   "name": "python",
   "nbconvert_exporter": "python",
   "pygments_lexer": "ipython3",
   "version": "3.7.3"
  },
  "toc": {
   "base_numbering": 1,
   "nav_menu": {},
   "number_sections": true,
   "sideBar": false,
   "skip_h1_title": false,
   "title_cell": "Table of Contents",
   "title_sidebar": "Contents",
   "toc_cell": true,
   "toc_position": {
    "height": "650.867px",
    "left": "1537px",
    "top": "111.133px",
    "width": "165px"
   },
   "toc_section_display": false,
   "toc_window_display": true
  }
 },
 "nbformat": 4,
 "nbformat_minor": 1
}
